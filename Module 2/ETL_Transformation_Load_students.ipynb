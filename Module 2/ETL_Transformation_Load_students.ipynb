{
  "nbformat": 4,
  "nbformat_minor": 0,
  "metadata": {
    "colab": {
      "provenance": []
    },
    "kernelspec": {
      "name": "python3",
      "display_name": "Python 3"
    },
    "language_info": {
      "name": "python"
    }
  },
  "cells": [
    {
      "cell_type": "markdown",
      "source": [
        "# ETL: Transformation and Load"
      ],
      "metadata": {
        "id": "djh6vTm2BnEN"
      }
    },
    {
      "cell_type": "markdown",
      "source": [
        "##Extract the dataset\n"
      ],
      "metadata": {
        "id": "A68b1G3k4ljO"
      }
    },
    {
      "cell_type": "code",
      "source": [
        "# Import libraries\n",
        "import ____ as ___\n",
        "import ____ as ___\n",
        "\n",
        "# Adjust the maximum number of rows to display.\n",
        "pd.______('display.max_rows', 100)\n",
        "\n",
        "url = \"https://archive.ics.uci.edu/ml/machine-learning-databases/adult/adult.data\"\n",
        "column_names = ['age', 'workclass', 'fnlwgt', 'education', 'education-num', 'marital-status', 'occupation',\n",
        "                'relationship', 'race', 'sex', 'capital-gain', 'capital-loss', 'hours-per-week', 'native-country', 'income']\n",
        "# Extract dataset\n",
        "adult_data = pd.read_csv(url, names=column_names, sep=\"\\s*,\\s*\", engine='python')\n",
        "adult_data.head(50)"
      ],
      "metadata": {
        "id": "U30tlATz4cdL"
      },
      "execution_count": null,
      "outputs": []
    },
    {
      "cell_type": "markdown",
      "source": [
        "# Data cleaning: Deletion"
      ],
      "metadata": {
        "id": "-5LJWPBpf44k"
      }
    },
    {
      "cell_type": "code",
      "source": [
        "# Check missing values (in this dataset, missing values are marked with '?').\n",
        "missing_values = adult_data == ____\n",
        "num_missing_per_row = missing_values.sum(axis=1)\n",
        "\n",
        "# Set a limit for the maximum number of missing values per row.\n",
        "threshold = 2\n",
        "\n",
        "# Filter the DataFrame to keep only those rows that have 'threshold' or fewer missing values.\n",
        "df_cleaned = adult_data[num_missing_per_row <= _____]\n",
        "\n",
        "print(f\"Before cleaning: {adult_data.shape[0]} filas\")\n",
        "print(f\"After cleaning: {df_cleaned.shape[0]} filas\")"
      ],
      "metadata": {
        "id": "Q7NLFgbykctl"
      },
      "execution_count": null,
      "outputs": []
    },
    {
      "cell_type": "code",
      "source": [
        "df_final = df_cleaned.______(drop=True)\n",
        "df_final.tail(50)"
      ],
      "metadata": {
        "id": "HW-uLzjUprj8"
      },
      "execution_count": null,
      "outputs": []
    },
    {
      "cell_type": "markdown",
      "source": [
        "# Data cleaning: Imputation\n"
      ],
      "metadata": {
        "id": "zBzW-4jcqLHm"
      }
    },
    {
      "cell_type": "code",
      "source": [
        "from sklearn.impute import SimpleImputer\n",
        "\n",
        "# Replace ? values for NaN\n",
        "df_final._____(\"?\", np.nan, inplace=True)\n",
        "df_final.head(30)"
      ],
      "metadata": {
        "id": "-_pv7QABrD0c"
      },
      "execution_count": null,
      "outputs": []
    },
    {
      "cell_type": "code",
      "source": [
        "# Impute missing values for categorical variables.\n",
        "imputer_categorical = SimpleImputer(strategy='most_frequent')\n",
        "for col in ['workclass', 'occupation', 'native-country']:\n",
        "    df_final[col] = imputer_categorical._________(df_final[col].values.reshape(-1, 1)).ravel()\n",
        "\n",
        "# Impute missing values for numerical variables (if any)\n",
        "imputer_numerical = SimpleImputer(strategy='mean')\n",
        "for col in ['age', 'fnlwgt', 'education-num', 'capital-gain', 'capital-loss', 'hours-per-week']:\n",
        "    df_final[col] = imputer_numerical._________(df_final[col].values.reshape(-1, 1))"
      ],
      "metadata": {
        "id": "0yATO6FBs-xg"
      },
      "execution_count": null,
      "outputs": []
    },
    {
      "cell_type": "code",
      "source": [
        "df_final.head(30)"
      ],
      "metadata": {
        "id": "JlUURxtBrVmi"
      },
      "execution_count": null,
      "outputs": []
    },
    {
      "cell_type": "markdown",
      "source": [
        "# Data Encoding"
      ],
      "metadata": {
        "id": "LDNQTq0xwCZR"
      }
    },
    {
      "cell_type": "code",
      "source": [
        "from sklearn.preprocessing import LabelEncoder\n",
        "\n",
        "# Initialize the LabelEncoder\n",
        "le = LabelEncoder()\n",
        "\n",
        "# Apply the encoding to the column 'income'\n",
        "df_final['income_encoded'] = le.________(df_final['income'])\n",
        "\n",
        "# To verify the changes.\n",
        "print(df_final[['income', 'income_encoded']].head(100))"
      ],
      "metadata": {
        "id": "bb1z7wXIwBjo"
      },
      "execution_count": null,
      "outputs": []
    },
    {
      "cell_type": "code",
      "source": [
        "# Rename the column\n",
        "df_income = df_final._____(columns=['income'])\n",
        "df_encoding = df_income.____(columns={'income_encoded': 'income'})\n",
        "df_encoding.head(30)"
      ],
      "metadata": {
        "id": "xnMNfWkmwViW"
      },
      "execution_count": null,
      "outputs": []
    },
    {
      "cell_type": "markdown",
      "source": [
        "# Data normalization"
      ],
      "metadata": {
        "id": "UOsg6voC8cb3"
      }
    },
    {
      "cell_type": "code",
      "source": [
        "# Importing the necessary libraries.\n",
        "import _____ as _____\n",
        "from sklearn import datasets\n",
        "from sklearn.preprocessing import StandardScaler\n",
        "\n",
        "# Loading the wine dataset\n",
        "wine = datasets._____()\n",
        "df = pd.DataFrame(data=wine.data, columns=wine.feature_names)\n",
        "\n",
        "# Showing dataset first columns.\n",
        "df.head()"
      ],
      "metadata": {
        "id": "E7XQNvjp5wf9"
      },
      "execution_count": null,
      "outputs": []
    },
    {
      "cell_type": "code",
      "source": [
        "# Histogram of a feature to visualize the original distribution.\n",
        "plt.figure(figsize=(12, 6))\n",
        "plt.subplot(1, 2, 1)\n",
        "plt.hist(df['alcohol'], color='blue', bins=30)\n",
        "plt.title('Distribución original de Alcohol')\n",
        "\n",
        "# Normalizing the features.\n",
        "scaler = _____()\n",
        "df_normalized = pd.DataFrame(scaler.fit_transform(df), columns=df.columns)\n",
        "\n",
        "# Histogram of the same feature after normalization.\n",
        "plt.subplot(1, 2, 2)\n",
        "plt.hist(df_normalized['alcohol'], color='green', bins=30)\n",
        "plt.title('Distribución de Alcohol después de la Normalización')\n",
        "plt.tight_layout()\n",
        "plt.show()"
      ],
      "metadata": {
        "id": "nknPQ1bcTRnZ"
      },
      "execution_count": null,
      "outputs": []
    },
    {
      "cell_type": "code",
      "source": [
        "# Displaying the first rows of the normalized dataset\n",
        "df_normalized.head()"
      ],
      "metadata": {
        "id": "305D_c78TfrS"
      },
      "execution_count": null,
      "outputs": []
    },
    {
      "cell_type": "markdown",
      "source": [
        "# Data discretization"
      ],
      "metadata": {
        "id": "WW26i5wX9b3H"
      }
    },
    {
      "cell_type": "code",
      "source": [
        "# Loading the wine dataset\n",
        "url = \"https://archive.ics.uci.edu/ml/machine-learning-databases/wine/wine.data\"\n",
        "column_names = [\"Class\", \"Alcohol\", \"Malic acid\", \"Ash\", \"Alcalinity of ash\",\n",
        "                \"Magnesium\", \"Total phenols\", \"Flavanoids\",\n",
        "                \"Nonflavanoid phenols\", \"Proanthocyanins\", \"Color intensity\",\n",
        "                \"Hue\", \"OD280/OD315 of diluted wines\", \"Proline\"]\n",
        "wine_data = pd.read_csv(url, header=None, names=column_names)\n",
        "\n",
        "# Defining the boundaries for the categories.\n",
        "bins = [wine_data['Alcohol']._____, 12, 13, wine_data['Alcohol']._____]\n",
        "\n",
        "# Labels for the categories.\n",
        "labels = [\"low\", \"medium\", \"high\"]\n",
        "\n",
        "# Creating the new column with the discretized categories.\n",
        "wine_data['Alcohol_category'] = pd.cut(wine_data['Alcohol'], bins=bins, labels=labels, include_lowest=True)"
      ],
      "metadata": {
        "id": "FIkTmnyg9bOq"
      },
      "execution_count": null,
      "outputs": []
    },
    {
      "cell_type": "code",
      "source": [
        "wine_data.head(50)"
      ],
      "metadata": {
        "id": "95MM-m2v9l8F"
      },
      "execution_count": null,
      "outputs": []
    },
    {
      "cell_type": "markdown",
      "source": [
        "# Feature engineering"
      ],
      "metadata": {
        "id": "AyxDFUo8-lOP"
      }
    },
    {
      "cell_type": "code",
      "source": [
        "# Color intensity-alcohol ratio\n",
        "wine_data['Color_to_alcohol_ratio'] = ______ / _____\n",
        "wine_data.head(30)\n"
      ],
      "metadata": {
        "id": "3indO0iJ-oJj"
      },
      "execution_count": null,
      "outputs": []
    },
    {
      "cell_type": "code",
      "source": [
        "# Magnesio-alcohol ratio\n",
        "wine_data['Mg_to_Alcohol_ratio'] = _____ / _____\n",
        "wine_data.head(30)"
      ],
      "metadata": {
        "id": "ESElPdM0AWCv"
      },
      "execution_count": null,
      "outputs": []
    },
    {
      "cell_type": "markdown",
      "source": [
        "# Load\n"
      ],
      "metadata": {
        "id": "pWgowfeRAzHY"
      }
    },
    {
      "cell_type": "code",
      "source": [
        "# Installation and importation of necessary libraries\n",
        "import ______\n",
        "\n",
        "# Creating a connection to an SQLite database and loading data\n",
        "conn = sqlite3._____('demo_etl.db')\n",
        "\n",
        "# Load the dataframe into a new table called 'Personas'.\n",
        "wine_data._____('Wines', conn, if_exists='replace', index=False)\n",
        "\n",
        "# Query the database to verify that the data has been loaded correctly.\n",
        "consulta = pd._____('SELECT * FROM Wines', conn)\n",
        "consulta"
      ],
      "metadata": {
        "id": "td8vtczkA1Bp"
      },
      "execution_count": null,
      "outputs": []
    }
  ]
}