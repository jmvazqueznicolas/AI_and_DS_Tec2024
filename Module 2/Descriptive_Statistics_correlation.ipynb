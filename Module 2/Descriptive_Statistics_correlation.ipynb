{
  "nbformat": 4,
  "nbformat_minor": 0,
  "metadata": {
    "colab": {
      "provenance": []
    },
    "kernelspec": {
      "name": "python3",
      "display_name": "Python 3"
    },
    "language_info": {
      "name": "python"
    }
  },
  "cells": [
    {
      "cell_type": "markdown",
      "source": [
        "## Correlation"
      ],
      "metadata": {
        "id": "1ERECYDeQfm9"
      }
    },
    {
      "cell_type": "markdown",
      "source": [
        "The Abalone dataset is commonly used in the machine learning community and comes from a study on abalones, which are a family of marine mollusks. The data were sourced from a study conducted in Hobart, Tasmania, Australia.\n",
        "\n",
        "Here's a breakdown of the dataset's features:\n",
        "\n",
        "* Sex: A categorical representation of the abalone's gender, which can be male (M), female (F), or infant (I).\n",
        "\n",
        "* Length: The maximum length of the abalone measured in millimeters.\n",
        "\n",
        "* Diameter: The diameter of the abalone, perpendicular to the length, also measured in millimeters.\n",
        "\n",
        "* Height: Height of the abalone with meat in, measured in millimeters.\n",
        "\n",
        "* WholeWeight: The total weight of the abalone, measured in grams.\n",
        "\n",
        "* ShuckedWeight: Weight of the abalone after removing the shell, measured in grams.\n",
        "\n",
        "* VisceraWeight: Weight of the gut of the abalone after bleeding, measured in grams.\n",
        "\n",
        "* ShellWeight: Weight of the abalone's shell, after drying, measured in grams.\n",
        "\n",
        "* Rings: Number of rings on the shell, which gives an approximate measure of the age of the abalone (in years). This can be determined by cutting the shell and counting the number of rings under a microscope, similar to counting the rings of a tree to determine its age.\n",
        "\n",
        "The aim of many tasks using this dataset is to predict the number of rings (and thus the approximate age) of the abalone based on its other physical features. This is useful in biological and conservation studies.\n",
        "\n",
        "The dataset offers a mix of numeric and categorical features. Since most features are numeric and continuous, it's suitable for correlation analysis, regression, and other supervised machine learning methods. The categorical feature, \"Sex,\" is often encoded (e.g., using one-hot encoding) if incorporated into machine learning models."
      ],
      "metadata": {
        "id": "NxS3nKq-P71e"
      }
    },
    {
      "cell_type": "code",
      "execution_count": null,
      "metadata": {
        "id": "jOMacSiOI_To"
      },
      "outputs": [],
      "source": [
        "# Import necessary libraries\n",
        "\n",
        "# Load the dataset\n",
        "url = \"https://archive.ics.uci.edu/ml/machine-learning-databases/abalone/abalone.data\"\n",
        "# Use the names of the features\n",
        "column_names =\n",
        "abalone_data = pd.read_csv(url, names=column_names)"
      ]
    },
    {
      "cell_type": "code",
      "source": [
        "# Peek into the data\n",
        "abalone_data.head()"
      ],
      "metadata": {
        "id": "h2Y_wOyDOGJs"
      },
      "execution_count": null,
      "outputs": []
    },
    {
      "cell_type": "code",
      "source": [
        "# Let's see the correlation between 'Length' and 'Diameter'\n",
        "correlation = abalone_data[\"Length\"].corr(abalone_data[\"Diameter\"])\n",
        "print(f\"Correlation between Length and Diameter: {correlation:.2f}\")"
      ],
      "metadata": {
        "id": "T60U07LsPobE"
      },
      "execution_count": null,
      "outputs": []
    },
    {
      "cell_type": "code",
      "source": [
        "# Scatter Plot\n",
        "plt.figure(figsize=(8, 5))\n",
        "sns.scatterplot(data=abalone_data, x=\"Length\", y=\"Diameter\")\n",
        "plt.title('Scatter Plot of Length vs. Diameter')\n",
        "plt.show()"
      ],
      "metadata": {
        "id": "jbF38-jAOzKl"
      },
      "execution_count": null,
      "outputs": []
    },
    {
      "cell_type": "code",
      "source": [
        "# Compute the correlation matrix\n",
        "corr_matrix = abalone_data.____() # Use Pandas corr function\n",
        "\n",
        "# Plot the heatmap\n",
        "plt.figure(figsize=(8, 6))\n",
        "sns.heatmap(corr_matrix, annot=True, cmap=\"coolwarm\", vmin=-1, vmax=1)\n",
        "plt.title('Correlation Heatmap of Abalone Features')\n",
        "plt.show()"
      ],
      "metadata": {
        "id": "ekNuldC4JA3-"
      },
      "execution_count": null,
      "outputs": []
    }
  ]
}