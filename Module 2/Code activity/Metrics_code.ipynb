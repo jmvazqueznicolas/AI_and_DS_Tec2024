{
  "cells": [
    {
      "cell_type": "markdown",
      "metadata": {},
      "source": [
        "### Activity 5: Metrics "
      ]
    },
    {
      "cell_type": "markdown",
      "metadata": {
        "id": "Yc4wMs6LqY4R"
      },
      "source": [
        "The Wine dataset is a classic dataset used frequently in the realm of pattern recognition and machine learning. This dataset originates from the UCI Machine Learning Repository and is often utilized for classification tasks.\n",
        "\n",
        "Features:\n",
        "\n",
        "The Wine dataset comprises 13 different measurements taken for three types of wine cultivated in the same region in Italy. These measurements (or features) can be broadly categorized into:\n",
        "\n",
        "* Alcohol content\n",
        "* Malic acid\n",
        "* Ash\n",
        "* Alkalinity of ash\n",
        "* Magnesium\n",
        "* Total phenols\n",
        "* Flavonoids\n",
        "* Non-flavonoid phenols\n",
        "* Proanthocyanins\n",
        "* Color intensity\n",
        "* Hue\n",
        "* OD280/OD315 of diluted wines\n",
        "* Proline\n",
        "\n",
        "The primary goal when working with the Wine dataset is to predict the type of wine based on the given features. There are three classes of wines in the dataset, and each class corresponds to a type of wine cultivated in a specific area of Italy."
      ]
    },
    {
      "cell_type": "markdown",
      "metadata": {
        "id": "QTLW4xkwiFIt"
      },
      "source": [
        "### Import libraries\n",
        "Hint: Consider importing the pandas, sklearn, seaborn, and matplotlib libraries."
      ]
    },
    {
      "cell_type": "code",
      "execution_count": null,
      "metadata": {
        "id": "Vm0q4vCYiCLa"
      },
      "outputs": [],
      "source": [
        "#Your code (5 point)"
      ]
    },
    {
      "cell_type": "markdown",
      "metadata": {
        "id": "Lj_eW1WXio8A"
      },
      "source": [
        "### Define functions to plot the confusion matrix and train/evaluate the models."
      ]
    },
    {
      "cell_type": "code",
      "execution_count": null,
      "metadata": {
        "id": "3ilfSnxpi1tq"
      },
      "outputs": [],
      "source": [
        "# Your code (5 point)"
      ]
    },
    {
      "cell_type": "markdown",
      "metadata": {
        "id": "79TuFU1PjB8l"
      },
      "source": [
        "### Load the Wine dataset in a pandas dataframe and show the first 10 values"
      ]
    },
    {
      "cell_type": "code",
      "execution_count": null,
      "metadata": {
        "id": "vAqaxVWpkgBO"
      },
      "outputs": [],
      "source": [
        "# Your code (5 point)"
      ]
    },
    {
      "cell_type": "markdown",
      "metadata": {
        "id": "5bp-f_zok7iM"
      },
      "source": [
        "### Split the dataset. Use 25% as test data and 75% as training data.\n"
      ]
    },
    {
      "cell_type": "code",
      "execution_count": null,
      "metadata": {
        "id": "YSN7Hhe9lGVT"
      },
      "outputs": [],
      "source": [
        "# Your code (5 point)"
      ]
    },
    {
      "cell_type": "markdown",
      "metadata": {
        "id": "WoU1qaDWlg1g"
      },
      "source": [
        "### Create a dictionary with the ML models.\n",
        "Use at least 4 different classification algorithms.\n"
      ]
    },
    {
      "cell_type": "code",
      "execution_count": null,
      "metadata": {
        "id": "bGR7SR8AlnAg"
      },
      "outputs": [],
      "source": [
        "# Your code (10 points)"
      ]
    },
    {
      "cell_type": "markdown",
      "metadata": {
        "id": "aaRGyxuPmcXU"
      },
      "source": [
        "### Train the models and show the metrics (accuracy, precision, recall, and F1-score) and the confusion matrix for each one."
      ]
    },
    {
      "cell_type": "code",
      "execution_count": null,
      "metadata": {
        "id": "bDxuFiHTmbrH"
      },
      "outputs": [],
      "source": [
        "# Your code (10 points)"
      ]
    },
    {
      "cell_type": "markdown",
      "metadata": {
        "id": "JSRjxOetqJ4M"
      },
      "source": [
        "### According to the results, which model do you select and why? Put your response in the following cell. (10 points)"
      ]
    },
    {
      "cell_type": "markdown",
      "metadata": {
        "id": "jlrM__rVqQof"
      },
      "source": []
    }
  ],
  "metadata": {
    "colab": {
      "provenance": []
    },
    "kernelspec": {
      "display_name": "Python 3",
      "name": "python3"
    },
    "language_info": {
      "name": "python"
    }
  },
  "nbformat": 4,
  "nbformat_minor": 0
}
