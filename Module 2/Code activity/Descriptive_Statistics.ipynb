{
  "cells": [
    {
      "cell_type": "markdown",
      "metadata": {
        "id": "xivBjEIE67qq"
      },
      "source": [
        "# Diabetes Dataset\n",
        "\n",
        "This dataset is originally from Bradley Efron, Trevor Hastie, Iain Johnstone, and Robert Tibshirani's study, \"Least Angle Regression.\" It's one of the standard datasets available in the scikit-learn library.\n",
        "\n",
        "The diabetes dataset consists of ten baseline variables: age, sex, body mass index (BMI), average blood pressure, and six blood serum measurements. The target variable is a quantitative measure of disease progression one year after baseline.\n",
        "\n",
        "Attributes/Features:\n",
        "\n",
        "* age: Age in years.\n",
        "* sex: A binary variable indicating gender.\n",
        "* bmi: Body mass index.\n",
        "* bp: Average blood pressure.\n",
        "* s1-s6: Six blood serum measurements.\n",
        "\n",
        "The target variable is a quantitative measure of disease progression one year after the baseline. It's a continuous value that provides an indication of how much the disease has progressed.\n",
        "\n",
        "The primary objective when using this dataset in machine learning is to predict the disease progression (the target) based on the given features. Regression techniques are typically applied to this dataset due to the continuous nature of the target variable."
      ]
    },
    {
      "cell_type": "markdown",
      "metadata": {
        "id": "nAwVYjl0-j8e"
      },
      "source": [
        "### Import libraries\n",
        "Hint: Consider to import pandas, sklearn, seaborn and matplotlib"
      ]
    },
    {
      "cell_type": "code",
      "execution_count": null,
      "metadata": {
        "id": "GprGIlX6-jkM"
      },
      "outputs": [],
      "source": [
        "# Your code (5 point)\n"
      ]
    },
    {
      "cell_type": "markdown",
      "metadata": {
        "id": "_7z2GwRa-049"
      },
      "source": [
        "### Load the Diabetes dataset into a Pandas dataframe and create a scatter plot of Age vs Disease Progression."
      ]
    },
    {
      "cell_type": "code",
      "execution_count": 12,
      "metadata": {
        "id": "Bwz7QZ5v-5uh"
      },
      "outputs": [],
      "source": [
        "# Your code (5 point)\n"
      ]
    },
    {
      "cell_type": "markdown",
      "metadata": {
        "id": "vmXL1u5hBcew"
      },
      "source": [
        "### Compute and show statistics for 'age.'\n",
        "Hint: Consider all statistical values shown in class.\n"
      ]
    },
    {
      "cell_type": "code",
      "execution_count": null,
      "metadata": {
        "id": "i64OjMGtBoqw"
      },
      "outputs": [],
      "source": [
        "# Your code (10 points)\n"
      ]
    },
    {
      "cell_type": "markdown",
      "metadata": {
        "id": "7iT4VBi5DpOK"
      },
      "source": [
        "### Compute and show statistics for 'age.'\n",
        "Hint: Consider all statistical values shown in class."
      ]
    },
    {
      "cell_type": "code",
      "execution_count": null,
      "metadata": {
        "id": "BVVnClNADvUi"
      },
      "outputs": [],
      "source": [
        "# Your code (10 points)\n"
      ]
    },
    {
      "cell_type": "markdown",
      "metadata": {
        "id": "Es8RPAxBEnuM"
      },
      "source": [
        "### Show the IQR.\n",
        "Hint: Use a boxplot\n"
      ]
    },
    {
      "cell_type": "code",
      "execution_count": null,
      "metadata": {
        "id": "JtmHG-ZrISVl"
      },
      "outputs": [],
      "source": [
        "# Your code (5 point)\n"
      ]
    },
    {
      "cell_type": "markdown",
      "metadata": {
        "id": "2H-Jk0czIbhS"
      },
      "source": [
        "### Compute the correlation matrix.\n",
        "Use all the features in the dataset."
      ]
    },
    {
      "cell_type": "code",
      "execution_count": null,
      "metadata": {
        "id": "O53QhorlI4MY"
      },
      "outputs": [],
      "source": [
        "# Your code (5 point)\n"
      ]
    },
    {
      "cell_type": "markdown",
      "metadata": {
        "id": "77T6HlBcJMFd"
      },
      "source": [
        "### According to the results, What would you say about the values ​​obtained from the statistical analysis and the correlation matrix?? Put your response in the following cell. (10 points)"
      ]
    },
    {
      "cell_type": "markdown",
      "metadata": {
        "id": "e5DrbWyBJUXf"
      },
      "source": []
    }
  ],
  "metadata": {
    "colab": {
      "provenance": []
    },
    "kernelspec": {
      "display_name": "Python 3",
      "name": "python3"
    },
    "language_info": {
      "name": "python"
    }
  },
  "nbformat": 4,
  "nbformat_minor": 0
}
