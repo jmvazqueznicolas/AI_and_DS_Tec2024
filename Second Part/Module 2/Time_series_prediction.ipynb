{
  "nbformat": 4,
  "nbformat_minor": 0,
  "metadata": {
    "colab": {
      "provenance": []
    },
    "kernelspec": {
      "name": "python3",
      "display_name": "Python 3"
    },
    "language_info": {
      "name": "python"
    }
  },
  "cells": [
    {
      "cell_type": "markdown",
      "source": [
        "## Realiza lo siguiente:\n",
        "\n",
        "1.   Carga las bibliotecas, carga el dataset (poblacion.csv) y ploterlo. (Valor 20 puntos)\n",
        "2.   Entrena 3 modelos para la predicción en series de tiempo (Valor 30 puntos)\n",
        "3. Selecciona el mejor modelo de acuerdo a las metricas/técnicas vistas en clase (Valor 20 puntos)\n",
        "4. Explica las razones por las cuales seleccionaste el modelo. (Valor 10 puntos)\n",
        "5. ¿Cuál es la población en Enero de 2023? (Valor 10 puntos)\n",
        "6. ¿Para que otras aplicaciones consideras que te pueden servir estos modelos? (Valor 10 puntos)\n",
        "\n",
        "Las preguntas respondelas directamente el Notebook de Colab."
      ],
      "metadata": {
        "id": "MHdLm3F4dwNz"
      }
    }
  ]
}