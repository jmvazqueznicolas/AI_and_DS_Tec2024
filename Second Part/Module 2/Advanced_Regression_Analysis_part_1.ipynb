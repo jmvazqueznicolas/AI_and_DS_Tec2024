{
  "cells": [
    {
      "cell_type": "markdown",
      "metadata": {
        "id": "j3JuEtANrHC-"
      },
      "source": [
        "# Polinomial Models"
      ]
    },
    {
      "cell_type": "code",
      "execution_count": null,
      "metadata": {
        "id": "O4tTP-lsch9T"
      },
      "outputs": [],
      "source": [
        "# Import libraries"
      ]
    },
    {
      "cell_type": "code",
      "execution_count": null,
      "metadata": {
        "id": "jTe-odlJdQQF"
      },
      "outputs": [],
      "source": [
        "# Sample dataset\n",
        "data = {\n",
        "    'Study_Hours': [1, 2, 3, 4, 5, 6],\n",
        "    'Exam_Score': [50, 65, 75, 80, 85, 88]\n",
        "}\n",
        "\n",
        "# Create a DataFrame from the dataset\n",
        "df = pd.DataFrame(data)"
      ]
    },
    {
      "cell_type": "code",
      "execution_count": null,
      "metadata": {
        "id": "BgNgOn51dLSB"
      },
      "outputs": [],
      "source": [
        "# Extract the features (Study_Hours) and target (Exam_Score)\n"
      ]
    },
    {
      "cell_type": "code",
      "execution_count": null,
      "metadata": {
        "id": "bv99MxFFdZlv"
      },
      "outputs": [],
      "source": [
        "# Fit linear regression for comparison\n",
        "\n",
        "\n",
        "# Fit polynomial regression\n"
      ]
    },
    {
      "cell_type": "code",
      "execution_count": null,
      "metadata": {
        "colab": {
          "base_uri": "https://localhost:8080/",
          "height": 487
        },
        "id": "2lyFwQz1e0Hn",
        "outputId": "dde4789f-7d47-4d1e-c6f7-7950ea66939e"
      },
      "outputs": [],
      "source": [
        "# Plot results\n",
        "\n",
        "# Evaluate the models\n"
      ]
    },
    {
      "cell_type": "markdown",
      "metadata": {
        "id": "2qCDFPr2y96d"
      },
      "source": [
        "# Exponential regression"
      ]
    },
    {
      "cell_type": "code",
      "execution_count": null,
      "metadata": {
        "colab": {
          "base_uri": "https://localhost:8080/",
          "height": 753
        },
        "id": "92bNZFmFzF3b",
        "outputId": "ea045ba6-cad2-4dd0-d9e1-40b381bb3afc"
      },
      "outputs": [],
      "source": [
        "# Import libraries\n",
        "\n",
        "\n",
        "# Sample dataset\n",
        "data = {\n",
        "    'Date': pd.date_range(start='2022-01-01', periods=10),\n",
        "    'Engaged_Users': [100, 150, 225, 338, 507, 761, 1142, 1713, 2570, 3855]\n",
        "}\n",
        "\n",
        "# Create a DataFrame from the dataset\n",
        "\n",
        "\n",
        "# Extract the features (Date) and target (Engaged_Users)\n",
        "\n",
        "# Visualize the data\n",
        "\n",
        "\n",
        "# Fit linear regression for comparison\n",
        "\n",
        "\n",
        "# Fit exponential regression\n",
        "\n",
        "\n",
        "# Evaluate the models\n"
      ]
    },
    {
      "cell_type": "markdown",
      "metadata": {
        "id": "cNO_v2XXzDQ_"
      },
      "source": [
        "# Power models"
      ]
    },
    {
      "cell_type": "code",
      "execution_count": null,
      "metadata": {
        "colab": {
          "base_uri": "https://localhost:8080/",
          "height": 564
        },
        "id": "ZqBwMH2_nSnn",
        "outputId": "269ac689-a89a-4248-8010-0b270a152156"
      },
      "outputs": [],
      "source": [
        "# Import libraries\n",
        "\n",
        "# Create a DataFrame with the sample data\n",
        "data = {\n",
        "    'User_ID': range(1, 11),\n",
        "    'Followers': np.arange(10, 110, 10),\n",
        "    'Likes': [25, 50, 100, 200, 350, 550, 800, 1100, 1450, 1850],\n",
        "    'Shares': [5, 10, 20, 40, 70, 110, 160, 220, 290, 370],\n",
        "    'Comments': [2, 4, 8, 16, 28, 44, 64, 88, 116, 148]\n",
        "}\n",
        "df = pd.DataFrame(data)\n",
        "\n",
        "# Perform power regression for Likes as an example\n",
        "\n",
        "\n",
        "\n",
        "# Generate a range of Followers values for the fitted curve\n",
        "\n",
        "# Calculate the predicted Likes using the fitted parameters\n",
        "\n",
        "# Create a plot to visualize the relationship\n",
        "\n"
      ]
    }
  ],
  "metadata": {
    "colab": {
      "provenance": []
    },
    "kernelspec": {
      "display_name": "Python 3",
      "name": "python3"
    },
    "language_info": {
      "name": "python"
    }
  },
  "nbformat": 4,
  "nbformat_minor": 0
}
