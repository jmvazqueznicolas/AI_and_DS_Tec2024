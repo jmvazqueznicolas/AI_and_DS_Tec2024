{
  "cells": [
    {
      "cell_type": "markdown",
      "metadata": {
        "id": "SsHHh3CQGAkj"
      },
      "source": [
        "## Clasificación de tipos de ropa\n",
        "\n",
        "Completa el notebook y logra un error de validación ≤ 𝟎. 𝟑 (alrededor del 89% de exactitud)"
      ]
    },
    {
      "cell_type": "markdown",
      "metadata": {
        "id": "_Gkmap7-IFh7"
      },
      "source": [
        "### Importar librerías"
      ]
    },
    {
      "cell_type": "code",
      "execution_count": null,
      "metadata": {
        "id": "jDbeQFuRA6_F"
      },
      "outputs": [],
      "source": [
        "import numpy as np\n",
        "import matplotlib.pyplot as plt\n",
        "import tensorflow as tf\n",
        "import seaborn as sns\n",
        "from tensorflow import keras\n",
        "from tensorflow.keras.utils import plot_model\n",
        "from tensorflow.keras import Sequential\n",
        "from keras.layers import LeakyReLU\n",
        "from tensorflow.keras.layers import Dense, Flatten, Dropout\n",
        "from sklearn.metrics import classification_report, confusion_matrix\n",
        "from tensorflow.keras.callbacks import EarlyStopping, ModelCheckpoint\n",
        "from sklearn.metrics import classification_report"
      ]
    },
    {
      "cell_type": "markdown",
      "metadata": {
        "id": "xHzxhjXxJVqI"
      },
      "source": [
        "### Descargar el conjunto de datos"
      ]
    },
    {
      "cell_type": "code",
      "execution_count": null,
      "metadata": {
        "id": "Pl2g-QDrNXvx"
      },
      "outputs": [],
      "source": [
        "fmnist = tf.keras.datasets.fashion_mnist\n",
        "(x_train, y_train), (x_test, y_test) = fmnist.load_data()"
      ]
    },
    {
      "cell_type": "markdown",
      "metadata": {
        "id": "rJLjDdP5MQoc"
      },
      "source": [
        "### Exploración de los datos\n"
      ]
    },
    {
      "cell_type": "code",
      "execution_count": null,
      "metadata": {
        "id": "rQzAkUScMKK7"
      },
      "outputs": [],
      "source": [
        "# Tamaño del conjunto de datos de entrenamiento\n",
        "print(x_train.shape)\n",
        "print(y_train.shape)"
      ]
    },
    {
      "cell_type": "code",
      "execution_count": null,
      "metadata": {
        "id": "QTM0-TqQM9B8"
      },
      "outputs": [],
      "source": [
        "# Tamaño del conjunto de datos de prueba\n",
        "print(x_test.shape)\n",
        "print(y_test.shape)"
      ]
    },
    {
      "cell_type": "code",
      "execution_count": null,
      "metadata": {
        "id": "_56EFozoHm8u"
      },
      "outputs": [],
      "source": [
        "print('Valor mínimo: ', x_train.min())\n",
        "print('Valor máximo: ', x_train.max())"
      ]
    },
    {
      "cell_type": "code",
      "execution_count": null,
      "metadata": {
        "id": "i0Z3Tny_JlUl"
      },
      "outputs": [],
      "source": [
        "# Reescalar las imágenes. Deben estar en un rango de [0-1]\n",
        "x_train = x_train/255.0\n",
        "x_test = x_test/255.0"
      ]
    },
    {
      "cell_type": "code",
      "execution_count": null,
      "metadata": {
        "id": "HYP82KcS-ZBt"
      },
      "outputs": [],
      "source": [
        "print('Valor mínimo: ', x_train.min())\n",
        "print('Valor máximo: ', x_train.max())"
      ]
    },
    {
      "cell_type": "code",
      "execution_count": null,
      "metadata": {
        "id": "jdmU5MXgDmL7"
      },
      "outputs": [],
      "source": [
        "def visualize_dataset(n,x,y):\n",
        "    plt.figure(figsize=(10,10))\n",
        "    for i in range(n*n):\n",
        "        plt.subplot(n,n,i+1)\n",
        "        plt.xticks([])\n",
        "        plt.yticks([])\n",
        "        plt.grid(False)\n",
        "        plt.imshow(x[i], cmap=plt.get_cmap('gray'))\n",
        "        plt.xlabel(y[i])\n",
        "    plt.show()"
      ]
    },
    {
      "cell_type": "code",
      "execution_count": null,
      "metadata": {
        "id": "PTvrxhBdPa9s"
      },
      "outputs": [],
      "source": [
        "visualize_dataset(5,x_test,y_test)"
      ]
    },
    {
      "cell_type": "code",
      "execution_count": null,
      "metadata": {
        "id": "oXnV2i3nQJ_q"
      },
      "outputs": [],
      "source": [
        "def visualize_labels(y,visualize=False):\n",
        "    unique, counts = np.unique(y, return_counts=True) # Encuentra los elementos únicos de un array\n",
        "    print('Clases: ', unique)\n",
        "    print('Número de instancias por clase', counts)\n",
        "\n",
        "    if visualize == True:\n",
        "        plt.figure(figsize=(11,5))\n",
        "        plt.bar(unique,counts, color = (0.3,0.1,0.4,0.6))\n",
        "        plt.xlabel('Clases')\n",
        "        plt.ylabel('Frecuencia')\n",
        "        plt.xticks(unique)\n",
        "\n",
        "        for i, v in enumerate(counts):\n",
        "            plt.text(i-0.25, v+10, str(v), color = 'blue')\n",
        "        plt.show()"
      ]
    },
    {
      "cell_type": "code",
      "execution_count": null,
      "metadata": {
        "id": "HGvyJbZ8Y6jA"
      },
      "outputs": [],
      "source": [
        "visualize_labels(y_train, True)"
      ]
    },
    {
      "cell_type": "markdown",
      "metadata": {
        "id": "sVgPDu1HZKiK"
      },
      "source": [
        "### Definición del modelo"
      ]
    },
    {
      "cell_type": "code",
      "execution_count": null,
      "metadata": {
        "id": "azhSR12YZUZ_"
      },
      "outputs": [],
      "source": [
        "# Define tu modelo\n",
        "model = Sequential()\n",
        "model.add(Flatten(input_shape=(28,28)))\n",
        "model.add(Dense(50, activation='relu'))\n",
        "model.add(Dense(50, activation='relu'))\n",
        "model.add(Dense(10, activation='softmax'))"
      ]
    },
    {
      "cell_type": "code",
      "execution_count": null,
      "metadata": {
        "id": "pvAfFw9twYuJ"
      },
      "outputs": [],
      "source": [
        "#Compilar el modelo\n",
        "model.compile(optimizer=,loss=,metrics=[])"
      ]
    },
    {
      "cell_type": "code",
      "execution_count": null,
      "metadata": {
        "id": "TegqOOPdP0jO"
      },
      "outputs": [],
      "source": [
        "model.summary()"
      ]
    },
    {
      "cell_type": "code",
      "execution_count": null,
      "metadata": {
        "id": "6YArmeIIP0jO"
      },
      "outputs": [],
      "source": [
        "plot_model(model, show_shapes=True)"
      ]
    },
    {
      "cell_type": "markdown",
      "metadata": {
        "id": "PpscD7ZN9DDz"
      },
      "source": [
        "\n",
        "### Entrenamiento del modelo\n"
      ]
    },
    {
      "cell_type": "code",
      "execution_count": null,
      "metadata": {
        "id": "YZXI8L_i91lP"
      },
      "outputs": [],
      "source": [
        "es = EarlyStopping(monitor=, patience=,  mode=,  verbose=1)\n",
        "checkpoint = keras.callbacks.ModelCheckpoint(\"best_model_FashionMnist.h5\", monitor=, verbose=1, save_best_only=True, mode='min')"
      ]
    },
    {
      "cell_type": "code",
      "execution_count": null,
      "metadata": {
        "id": "5004xd8BDuXb"
      },
      "outputs": [],
      "source": [
        "history = model.fit(x_train, y_train, validation_data=(x_test, y_test),callbacks=[checkpoint,es] , batch_size=128,epochs=100,verbose=1)"
      ]
    },
    {
      "cell_type": "markdown",
      "metadata": {
        "id": "yUPUuEHvtvuH"
      },
      "source": [
        "### Evaluación del modelo"
      ]
    },
    {
      "cell_type": "code",
      "execution_count": null,
      "metadata": {
        "id": "6ruNj8e_T0Fj"
      },
      "outputs": [],
      "source": [
        "fig, axs = plt.subplots(1, 2,figsize=(25, 5))\n",
        "axs[0].plot(history.history['accuracy'], label='accuracy')\n",
        "axs[0].plot(history.history['val_accuracy'], label = 'val_accuracy')\n",
        "axs[0].set_xlabel('Epoch')\n",
        "axs[0].set_ylabel('Accuracy')\n",
        "#axs[0].set_ylim([0.89,0.92])\n",
        "axs[0].legend(loc='upper left')\n",
        "\n",
        "axs[1].plot(history.history['loss'], label='loss')\n",
        "axs[1].plot(history.history['val_loss'], label = 'val_loss')\n",
        "axs[1].set_xlabel('Epoch')\n",
        "axs[1].set_ylabel('Loss')\n",
        "#axs[1].set_ylim([0.31, 0.37])\n",
        "axs[1].legend(loc='upper left')\n",
        "plt.show()"
      ]
    },
    {
      "cell_type": "code",
      "execution_count": null,
      "metadata": {
        "id": "gNYdkmybWGjZ"
      },
      "outputs": [],
      "source": [
        "test_loss, test_acc = model.evaluate(x_test, y_test)\n",
        "print(f'train accuracy: {test_acc:.3f}')\n",
        "print(f'Test loss: {test_loss:.3f}')"
      ]
    },
    {
      "cell_type": "markdown",
      "metadata": {
        "id": "1lu2MIheozOY"
      },
      "source": [
        "Evaluación del mejor modelo"
      ]
    },
    {
      "cell_type": "code",
      "execution_count": null,
      "metadata": {
        "id": "PJBJz2E8oiJ7"
      },
      "outputs": [],
      "source": [
        "from tensorflow.keras.models import load_model"
      ]
    },
    {
      "cell_type": "code",
      "execution_count": null,
      "metadata": {
        "id": "nNIkXO0oo7G9"
      },
      "outputs": [],
      "source": [
        "nn = load_model('best_model_FashionMnist.h5')"
      ]
    },
    {
      "cell_type": "code",
      "execution_count": null,
      "metadata": {
        "id": "414SxwfNpIWq"
      },
      "outputs": [],
      "source": [
        "test_loss, test_acc = nn.evaluate(x_test, y_test)\n",
        "print(f'train accuracy: {test_acc:.3f}')\n",
        "print(f'Test loss: {test_loss:.3f}')"
      ]
    },
    {
      "cell_type": "code",
      "execution_count": null,
      "metadata": {
        "id": "-jM6_HkwuEEw"
      },
      "outputs": [],
      "source": [
        "y_pred = np.argmax(model.predict(x_test), axis=-1)"
      ]
    },
    {
      "cell_type": "markdown",
      "metadata": {
        "id": "2j5DOd9yudFN"
      },
      "source": [
        "Matriz de confusión"
      ]
    },
    {
      "cell_type": "code",
      "execution_count": null,
      "metadata": {
        "id": "5jm4yfFnD0h_"
      },
      "outputs": [],
      "source": [
        "cf_matrix = confusion_matrix(y_test, y_pred)\n",
        "fig, ax = plt.subplots(figsize=(10, 10))\n",
        "sns.heatmap(cf_matrix, annot=True,cbar=False,fmt='d')\n",
        "plt.xlabel(\"Predicted\", fontsize = 18)\n",
        "plt.ylabel(\"True\", fontsize = 18)\n",
        "plt.show()"
      ]
    },
    {
      "cell_type": "code",
      "execution_count": null,
      "metadata": {
        "id": "vfLZsKZNvNeR"
      },
      "outputs": [],
      "source": [
        "print(classification_report(y_test, y_pred))"
      ]
    },
    {
      "cell_type": "code",
      "execution_count": null,
      "metadata": {
        "id": "IOE8wC6LxZNE"
      },
      "outputs": [],
      "source": [
        "def plot_prediction(index):\n",
        "    print('Valor real: ',y_test[index] )\n",
        "    print('Predicción: ',y_pred[index])\n",
        "    plt.figure(figsize=(6,3))\n",
        "    plt.imshow(x_test[index], cmap='gray')\n",
        "    plt.axis('off')\n",
        "    plt.show()"
      ]
    },
    {
      "cell_type": "code",
      "execution_count": null,
      "metadata": {
        "id": "r6Jd52uND5bn"
      },
      "outputs": [],
      "source": [
        "i = 92\n",
        "plot_prediction(i)"
      ]
    }
  ],
  "metadata": {
    "accelerator": "GPU",
    "colab": {
      "provenance": []
    },
    "kernelspec": {
      "display_name": "Python 3 (ipykernel)",
      "language": "python",
      "name": "python3"
    },
    "language_info": {
      "codemirror_mode": {
        "name": "ipython",
        "version": 3
      },
      "file_extension": ".py",
      "mimetype": "text/x-python",
      "name": "python",
      "nbconvert_exporter": "python",
      "pygments_lexer": "ipython3",
      "version": "3.8.16"
    }
  },
  "nbformat": 4,
  "nbformat_minor": 0
}
