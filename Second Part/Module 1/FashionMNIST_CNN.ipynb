{
  "nbformat": 4,
  "nbformat_minor": 0,
  "metadata": {
    "kernelspec": {
      "name": "python3",
      "display_name": "Python 3"
    },
    "language_info": {
      "codemirror_mode": {
        "name": "ipython",
        "version": 3
      },
      "file_extension": ".py",
      "mimetype": "text/x-python",
      "name": "python",
      "nbconvert_exporter": "python",
      "pygments_lexer": "ipython3",
      "version": "3.7.4"
    },
    "colab": {
      "provenance": []
    },
    "accelerator": "GPU"
  },
  "cells": [
    {
      "cell_type": "markdown",
      "metadata": {
        "id": "9LhA38oA_uMh"
      },
      "source": [
        "# Clasificación multiclase con redes neuronales en Keras\n",
        "___"
      ]
    },
    {
      "cell_type": "code",
      "metadata": {
        "id": "glBuG9zp_uMj"
      },
      "source": [
        "# TensorFlow and tf.keras\n",
        "import tensorflow as tf\n",
        "from tensorflow import keras\n",
        "from keras.utils import to_categorical"
      ],
      "execution_count": null,
      "outputs": []
    },
    {
      "cell_type": "code",
      "metadata": {
        "id": "3mCjQMmj_uMn"
      },
      "source": [
        "# Helper libraries\n",
        "import numpy as np\n",
        "import matplotlib.pyplot as plt"
      ],
      "execution_count": null,
      "outputs": []
    },
    {
      "cell_type": "markdown",
      "metadata": {
        "id": "jELG3vTT_uMq"
      },
      "source": [
        "## Importar Dataset"
      ]
    },
    {
      "cell_type": "code",
      "metadata": {
        "id": "V--w353Y_uMs"
      },
      "source": [
        "#https://keras.io/datasets/#fashion-mnist-database-of-fashion-articles\n",
        "\n",
        "fashion_mnist = keras.datasets.fashion_mnist\n",
        "(X_train_full, y_train_full), (X_test, y_test) = fashion_mnist.load_data()"
      ],
      "execution_count": null,
      "outputs": []
    },
    {
      "cell_type": "markdown",
      "metadata": {
        "id": "BHbme5_w_uMu"
      },
      "source": [
        "## Explorar el dataset"
      ]
    },
    {
      "cell_type": "markdown",
      "metadata": {
        "id": "OucKZ0Ec_uMv"
      },
      "source": [
        "#### Conjunto de entrenamiento"
      ]
    },
    {
      "cell_type": "code",
      "metadata": {
        "id": "QZXurQGF_uMw"
      },
      "source": [
        "X_train_full.shape"
      ],
      "execution_count": null,
      "outputs": []
    },
    {
      "cell_type": "code",
      "metadata": {
        "id": "QRRZvPRQ_uM1"
      },
      "source": [
        "y_train_full.shape"
      ],
      "execution_count": null,
      "outputs": []
    },
    {
      "cell_type": "markdown",
      "metadata": {
        "id": "6WQcWC87_uM6"
      },
      "source": [
        "#### Conjunto de prueba"
      ]
    },
    {
      "cell_type": "code",
      "metadata": {
        "id": "T_oQlAXE_uM6"
      },
      "source": [
        "X_test.shape"
      ],
      "execution_count": null,
      "outputs": []
    },
    {
      "cell_type": "code",
      "metadata": {
        "id": "e7wWDkEy_uM9"
      },
      "source": [
        "y_test.shape"
      ],
      "execution_count": null,
      "outputs": []
    },
    {
      "cell_type": "markdown",
      "metadata": {
        "id": "sSoTOF4r_uNA"
      },
      "source": [
        "#### Visualizando una instancia"
      ]
    },
    {
      "cell_type": "code",
      "metadata": {
        "id": "y7bgier6_uNA"
      },
      "source": [
        "# Visualizar la imagen en escala de grises\n",
        "plt.figure()\n",
        "plt.imshow(X_train_full[0], cmap='gray')\n",
        "plt.colorbar()\n",
        "plt.grid(True)\n",
        "plt.show()"
      ],
      "execution_count": null,
      "outputs": []
    },
    {
      "cell_type": "markdown",
      "metadata": {
        "id": "MHgBAZg7_uNC"
      },
      "source": [
        "#### Clases"
      ]
    },
    {
      "cell_type": "code",
      "metadata": {
        "id": "uIL0JQwL_uNC"
      },
      "source": [
        "y_train_full[0]"
      ],
      "execution_count": null,
      "outputs": []
    },
    {
      "cell_type": "code",
      "metadata": {
        "id": "yxjzhVEb_uNG"
      },
      "source": [
        "class_names = [\"T-shirt/top\", \"Trouser\", \"Pullover\", \"Dress\", \"Coat\",\n",
        "                   \"Sandal\", \"Shirt\", \"Sneaker\", \"Bag\", \"Ankle boot\"]"
      ],
      "execution_count": null,
      "outputs": []
    },
    {
      "cell_type": "code",
      "metadata": {
        "id": "Rg6xZpSZ_uNI"
      },
      "source": [
        "class_names[y_train_full[0]]"
      ],
      "execution_count": null,
      "outputs": []
    },
    {
      "cell_type": "markdown",
      "metadata": {
        "id": "1M9nwA8o_uNK"
      },
      "source": [
        "#### Visualizando las primeras 25 instancias"
      ]
    },
    {
      "cell_type": "code",
      "metadata": {
        "id": "d5kuw6sJ_uNK"
      },
      "source": [
        "plt.figure(figsize=(10,10))\n",
        "for i in range(0,25):\n",
        "    plt.subplot(5,5, i+1)\n",
        "    plt.imshow(X_train_full[i], cmap='gray')\n",
        "    plt.title(class_names[(y_train_full[i])])\n",
        "    plt.grid(False)\n",
        "    plt.xticks([])\n",
        "    plt.yticks([])\n",
        "plt.show()"
      ],
      "execution_count": null,
      "outputs": []
    },
    {
      "cell_type": "markdown",
      "metadata": {
        "id": "fsEzLXRc_uNM"
      },
      "source": [
        "## Preprocesamiento"
      ]
    },
    {
      "cell_type": "markdown",
      "metadata": {
        "id": "G8VtsgjD_uNN"
      },
      "source": [
        "#### Escalamiento de características"
      ]
    },
    {
      "cell_type": "code",
      "metadata": {
        "scrolled": true,
        "id": "G5Izi9D__uNO"
      },
      "source": [
        "X_train_full[0]"
      ],
      "execution_count": null,
      "outputs": []
    },
    {
      "cell_type": "code",
      "metadata": {
        "id": "npxOIib2_uNQ"
      },
      "source": [
        "X_train_full = X_train_full / 255\n",
        "X_test = X_test / 255"
      ],
      "execution_count": null,
      "outputs": []
    },
    {
      "cell_type": "code",
      "metadata": {
        "id": "XNgNWH52_uNV"
      },
      "source": [
        "X_train_full[0]"
      ],
      "execution_count": null,
      "outputs": []
    },
    {
      "cell_type": "markdown",
      "metadata": {
        "id": "XL8J5EB-_uNY"
      },
      "source": [
        "## Crear conjunto de validación"
      ]
    },
    {
      "cell_type": "code",
      "metadata": {
        "id": "TfdZ7WKu_uNa"
      },
      "source": [
        "# Separar el conjunto de entrenamiento completo en validación y entrenamiento\n",
        "X_train = X_train_full[:55000]\n",
        "y_train = y_train_full[:55000]\n",
        "\n",
        "X_validation = X_train_full[55000:]\n",
        "y_validation = y_train_full[55000:]"
      ],
      "execution_count": null,
      "outputs": []
    },
    {
      "cell_type": "code",
      "metadata": {
        "id": "KSRdn3Bj_uNc"
      },
      "source": [
        "X_validation.shape"
      ],
      "execution_count": null,
      "outputs": []
    },
    {
      "cell_type": "code",
      "metadata": {
        "id": "qJVf_vX3_uNg"
      },
      "source": [
        "X_train.shape"
      ],
      "execution_count": null,
      "outputs": []
    },
    {
      "cell_type": "markdown",
      "metadata": {
        "id": "tfRQuWrs_uNh"
      },
      "source": [
        "# Modelo"
      ]
    },
    {
      "cell_type": "markdown",
      "metadata": {
        "id": "JvwQMC-T_uNi"
      },
      "source": [
        "#### Crear el modelo y añadir capas"
      ]
    },
    {
      "cell_type": "code",
      "metadata": {
        "id": "o5OcqFrq_uNk"
      },
      "source": [
        "from tensorflow.keras import layers\n",
        "from keras import models\n",
        "\n",
        "model = keras.models.Sequential()\n",
        "# Convolutional\n",
        "model.add(layers.Conv2D(32, (3, 3), activation='relu', input_shape=(28, 28, 1)))\n",
        "model.add(layers.MaxPooling2D((2, 2)))\n",
        "model.add(layers.Conv2D(64, (3, 3), activation='relu'))\n",
        "model.add(layers.MaxPooling2D((2, 2)))\n",
        "model.add(layers.Conv2D(64, (3, 3), activation='relu'))\n",
        "# Dense\n",
        "model.add(layers.Flatten())\n",
        "model.add(layers.Dense(64, activation='relu'))\n",
        "model.add(layers.Dense(10, activation='softmax'))"
      ],
      "execution_count": null,
      "outputs": []
    },
    {
      "cell_type": "code",
      "metadata": {
        "id": "0Ilu_HSC_uNn"
      },
      "source": [
        "model.summary()"
      ],
      "execution_count": null,
      "outputs": []
    },
    {
      "cell_type": "code",
      "metadata": {
        "id": "9TUuJdEf_uNq"
      },
      "source": [
        "keras.utils.plot_model(model)"
      ],
      "execution_count": null,
      "outputs": []
    },
    {
      "cell_type": "code",
      "metadata": {
        "id": "JN2XM4y3_uNt"
      },
      "source": [
        "model.layers"
      ],
      "execution_count": null,
      "outputs": []
    },
    {
      "cell_type": "code",
      "metadata": {
        "id": "akoSyNpPEUWR"
      },
      "source": [
        "X_train = X_train.reshape((X_train.shape[0], 28, 28, 1))\n",
        "X_test = X_test.reshape((X_test.shape[0], 28, 28, 1))\n",
        "X_validation = X_validation.reshape((X_validation.shape[0], 28, 28, 1))"
      ],
      "execution_count": null,
      "outputs": []
    },
    {
      "cell_type": "code",
      "metadata": {
        "id": "9F7TFnznCnoX"
      },
      "source": [
        "train_labels = to_categorical(y_train)\n",
        "validation_labels = to_categorical(y_validation)\n",
        "test_labels = to_categorical(y_test)"
      ],
      "execution_count": null,
      "outputs": []
    },
    {
      "cell_type": "markdown",
      "metadata": {
        "id": "--GL75p9_uN4"
      },
      "source": [
        "# Configurar el proceso de aprendizaje (Compilar)\n",
        "Se especifica:\n",
        "- Loss function\n",
        "- Optimizer\n",
        "- Metrics (Opcional, en caso de querer observar métricas extra durante el entrenamiento o evaluación)"
      ]
    },
    {
      "cell_type": "code",
      "metadata": {
        "id": "163M3iDkCl0v"
      },
      "source": [
        "model.compile(loss='categorical_crossentropy',\n",
        "              optimizer='sgd',\n",
        "              metrics=['accuracy'])"
      ],
      "execution_count": null,
      "outputs": []
    },
    {
      "cell_type": "markdown",
      "metadata": {
        "id": "jMvCwatj_uN6"
      },
      "source": [
        "# Entrenamiento y evaluación en datos de validación\n",
        "Los datos de validación son opcionales, pero si los pasamos como parámetros en el método `fit()`, Keras medirá el loss y las demás métricas que le indiquemos sobre el conjunto de validación al final de cada época.\n",
        "\n",
        "Se pueden pasar como parámetros los datos de validación con `validation_data`. Si se usa `validation_split`, la fracción de datos que indiquemos será usada como validación (se tomarán los datos del final del conjunto y no se usarán en el entrenamiento). `validation_data` sobrescribe `validation_split`.\n",
        "\n",
        "- Si el performance es mucho mejor en el conjunto de entrenamiento que en el de validación hay ->"
      ]
    },
    {
      "cell_type": "code",
      "source": [
        "history = model.fit(X_train,\n",
        "                    train_labels,\n",
        "                    epochs=10,\n",
        "                    batch_size=32,\n",
        "                    validation_data=(X_validation,validation_labels))"
      ],
      "metadata": {
        "id": "4hHEkz9EGUhu"
      },
      "execution_count": null,
      "outputs": []
    },
    {
      "cell_type": "markdown",
      "metadata": {
        "id": "MAAtsh_r_uN7"
      },
      "source": [
        "#### History\n",
        "\n",
        "Objeto regresado por el método `fit()` que contiene:\n",
        "- Parámetros de entrenamiento\n",
        "- La lísta de épocas\n",
        "- Loss y métricas obtenidas al final de cada época"
      ]
    },
    {
      "cell_type": "code",
      "metadata": {
        "id": "rZ9gB5tu_uN8"
      },
      "source": [
        "history.params"
      ],
      "execution_count": null,
      "outputs": []
    },
    {
      "cell_type": "code",
      "metadata": {
        "scrolled": true,
        "id": "QNx50DRB_uN-"
      },
      "source": [
        "history.epoch"
      ],
      "execution_count": null,
      "outputs": []
    },
    {
      "cell_type": "code",
      "metadata": {
        "scrolled": true,
        "id": "SWa0PB7j_uOA"
      },
      "source": [
        "history.history"
      ],
      "execution_count": null,
      "outputs": []
    },
    {
      "cell_type": "markdown",
      "metadata": {
        "id": "2TvXAcAw_uOC"
      },
      "source": [
        "#### Curvas de aprendizaje"
      ]
    },
    {
      "cell_type": "code",
      "metadata": {
        "id": "mddmzEEU_uOD"
      },
      "source": [
        "import pandas as pd\n",
        "pd.DataFrame(history.history).plot(figsize=(15, 8))\n",
        "plt.grid(True)\n",
        "plt.gca().set_ylim(0, 1) # set the vertical range to [0-1]\n",
        "plt.show()"
      ],
      "execution_count": null,
      "outputs": []
    },
    {
      "cell_type": "code",
      "metadata": {
        "scrolled": true,
        "id": "0kW78T3e_uOF"
      },
      "source": [
        "#Si quisiéramos seguir entrenando usando nuestro conjunto de validación\n",
        "history2 = model.fit(X_train,\n",
        "                     train_labels,\n",
        "                     epochs=15,\n",
        "                     batch_size=32,\n",
        "                     validation_data=(X_validation,validation_labels),\n",
        "                     initial_epoch= 10)"
      ],
      "execution_count": null,
      "outputs": []
    },
    {
      "cell_type": "code",
      "metadata": {
        "id": "eOlXtVo6_uOI"
      },
      "source": [
        "#Si quisiéramos ver las curvas de aprendizaje de un segundo entrenamiento\n",
        "pd.DataFrame(history2.history).plot(figsize=(15, 8))\n",
        "plt.grid(True)\n",
        "plt.gca().set_ylim(0, 1) # set the vertical range to [0-1]\n",
        "plt.show()"
      ],
      "execution_count": null,
      "outputs": []
    },
    {
      "cell_type": "markdown",
      "metadata": {
        "id": "NUHyndkp_uOK"
      },
      "source": [
        "# Evaluación en conjunto de prueba\n",
        "\n",
        "Estimamos el error de generalización."
      ]
    },
    {
      "cell_type": "code",
      "metadata": {
        "id": "QkBEqMq-_uOK"
      },
      "source": [
        "loss_and_metrics = model.evaluate(X_test, test_labels)"
      ],
      "execution_count": null,
      "outputs": []
    },
    {
      "cell_type": "markdown",
      "metadata": {
        "id": "W8fPJPmm_uOM"
      },
      "source": [
        "# Predicción en nuevos datos"
      ]
    },
    {
      "cell_type": "code",
      "metadata": {
        "id": "ytG9SnZT_uOM"
      },
      "source": [
        "X_new = X_test[:10]"
      ],
      "execution_count": null,
      "outputs": []
    },
    {
      "cell_type": "markdown",
      "metadata": {
        "id": "eQ7YIy_Z_uOO"
      },
      "source": [
        "#### Probabilidad estimada por clase"
      ]
    },
    {
      "cell_type": "code",
      "metadata": {
        "id": "zO-4S3Xg_uOP"
      },
      "source": [
        "y_proba = model.predict(X_new).round(2)\n",
        "y_proba"
      ],
      "execution_count": null,
      "outputs": []
    },
    {
      "cell_type": "code",
      "source": [
        "# Convertir probabilidades en clases (el índice de la clase con mayor probabilidad)\n",
        "y_pred = np.argmax(y_proba, axis=1)\n",
        "\n",
        "print(y_pred)"
      ],
      "metadata": {
        "id": "UPYqkOewJ9Nb"
      },
      "execution_count": null,
      "outputs": []
    },
    {
      "cell_type": "markdown",
      "metadata": {
        "id": "7UJ77I4f_uOQ"
      },
      "source": [
        "#### Clase con mayor probabilidad"
      ]
    },
    {
      "cell_type": "code",
      "metadata": {
        "id": "JrJwY7Tp_uOT"
      },
      "source": [
        "np.array(class_names)[y_pred]"
      ],
      "execution_count": null,
      "outputs": []
    },
    {
      "cell_type": "code",
      "source": [
        "print(y_test[:10])"
      ],
      "metadata": {
        "id": "fW5WNhk6Kp7n"
      },
      "execution_count": null,
      "outputs": []
    },
    {
      "cell_type": "markdown",
      "metadata": {
        "id": "pwVvsXCh_uOW"
      },
      "source": [
        "# Guardar y restaurar el modelo"
      ]
    },
    {
      "cell_type": "markdown",
      "metadata": {
        "id": "hxDbT9yh_uOX"
      },
      "source": [
        "#### Guardar modelo"
      ]
    },
    {
      "cell_type": "code",
      "metadata": {
        "id": "Xjg7gJl3_uOX"
      },
      "source": [
        "model.save('keras_fashion.keras') #En formato HDF5\n"
      ],
      "execution_count": null,
      "outputs": []
    },
    {
      "cell_type": "markdown",
      "metadata": {
        "id": "CLxTI2MN_uOY"
      },
      "source": [
        "#### Restaurar un modelo"
      ]
    },
    {
      "cell_type": "code",
      "metadata": {
        "id": "pffiN4x8_uOY"
      },
      "source": [
        "model = keras.models.load_model('keras_fashion.keras')"
      ],
      "execution_count": null,
      "outputs": []
    },
    {
      "cell_type": "code",
      "metadata": {
        "id": "U-Jn03Ip_uOb"
      },
      "source": [
        "X_new = X_test[:5] # pretend these are new instances\n",
        "y_pred = model.predict(X_new)\n",
        "y_pred.round(2)"
      ],
      "execution_count": null,
      "outputs": []
    },
    {
      "cell_type": "markdown",
      "metadata": {
        "id": "R8rDpgqp_uOc"
      },
      "source": [
        "1. Modifica el modelo par alcanzar un accuracy mayor al 92% pero evitando que suceda el sobreajuste.\n",
        "2. En lugar de la red personalizada, utiliza un arquitectura de red más compleja como ResNet o VGG."
      ]
    }
  ]
}