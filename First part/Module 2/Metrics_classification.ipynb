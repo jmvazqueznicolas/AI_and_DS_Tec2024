{
  "cells": [
    {
      "cell_type": "markdown",
      "metadata": {
        "id": "djh6vTm2BnEN"
      },
      "source": [
        "<a href=\"https://colab.research.google.com/github/jmvazqueznicolas/AI_and_DS_Tec2023/blob/main/Metrics_classification.ipynb\" target=\"_parent\"><img src=\"https://colab.research.google.com/assets/colab-badge.svg\" alt=\"Open In Colab\"/></a>"
      ]
    },
    {
      "cell_type": "markdown",
      "metadata": {},
      "source": [
        "# Classification Metrics"
      ]
    },
    {
      "cell_type": "code",
      "execution_count": null,
      "metadata": {
        "id": "U30tlATz4cdL"
      },
      "outputs": [],
      "source": [
        "# Import the necessary libraries.\n",
        "import numpy as np\n",
        "import pandas as pd\n",
        "from sklearn._____ import load_breast_cancer\n",
        "from sklearn._____ import train_test_split\n",
        "from sklearn._____ import accuracy_score, precision_score, recall_score, f1_score, confusion_matrix\n",
        "from sklearn._____ import RandomForestClassifier\n",
        "from sklearn._____ import LogisticRegression\n",
        "from sklearn.____ import SVC\n",
        "import seaborn as ____\n",
        "import matplotlib.pyplot as ____"
      ]
    },
    {
      "cell_type": "code",
      "execution_count": null,
      "metadata": {
        "id": "M2KrE6O7iDgC"
      },
      "outputs": [],
      "source": [
        "# Function to visualize the confusion matrix.\n",
        "def plot_confusion_matrix(conf_matrix, model_name):\n",
        "    plt.figure(figsize=(4, 3))\n",
        "    sns.heatmap(conf_matrix, annot=True, fmt='g', cmap='Blues')\n",
        "    plt.title(f'Matriz de Confusión para {model_name}')\n",
        "    plt.xlabel('Predicción')\n",
        "    plt.ylabel('Real')\n",
        "    plt.show()\n",
        "\n",
        "# Función para entrenar y evaluar un modelo\n",
        "def evaluate_model(model, X_train, y_train, X_test, y_test):\n",
        "    model.fit(X_train, y_train)\n",
        "    y_pred = model.predict(X_test)\n",
        "\n",
        "    accuracy = accuracy_score(y_test, y_pred)\n",
        "    precision = precision_score(y_test, y_pred)\n",
        "    recall = recall_score(y_test, y_pred)\n",
        "    f1 = f1_score(y_test, y_pred)\n",
        "    conf_matrix = confusion_matrix(y_test, y_pred)\n",
        "    TN, FP, FN, TP = conf_matrix.ravel()\n",
        "\n",
        "    return accuracy, precision, recall, f1, TN, FP, FN, TP"
      ]
    },
    {
      "cell_type": "code",
      "execution_count": null,
      "metadata": {
        "id": "zMBzO-abiNux"
      },
      "outputs": [],
      "source": [
        "# Load the dataset.\n",
        "data = load_breast_cancer()\n",
        "X = data.____\n",
        "y = data.____\n",
        "# Convert to pandas dataframe\n",
        "df = pd.DataFrame(data.data, columns=data.feature_names)\n",
        "df['target'] = data.target\n",
        "# Displaying the first 5 rows of the dataset.\n",
        "df.head(10)"
      ]
    },
    {
      "cell_type": "code",
      "execution_count": null,
      "metadata": {
        "id": "IRBNi116i2Og"
      },
      "outputs": [],
      "source": [
        "# Split the dataset.\n",
        "X_train, X_test, y_train, y_test = ____(X, y, test_size=0.3, random_state=42)"
      ]
    },
    {
      "cell_type": "code",
      "execution_count": null,
      "metadata": {
        "id": "p9X0QsCYiTTY"
      },
      "outputs": [],
      "source": [
        "# Model List\n",
        "models = {\n",
        "    \"Random Forest\": RandomForestClassifier(n_estimators=100, random_state=42),\n",
        "    \"Logistic Regression\": LogisticRegression(max_iter=10000, random_state=42),\n",
        "    \"SVM\": SVC(random_state=42)\n",
        "}\n",
        "\n",
        "# Entrenar y evaluar cada modelo\n",
        "for name, model in models.items():\n",
        "    accuracy, precision, recall, f1, TN, FP, FN, TP = evaluate_model(model, X_train, y_train, X_test, y_test)\n",
        "    conf_matrix = np.array([[TN, FP], [FN, TP]])\n",
        "    plot_confusion_matrix(conf_matrix, name)\n",
        "\n",
        "    print(f\"Model: {name}\")\n",
        "    print(f\"Accuracy: {accuracy:.4f}\")\n",
        "    print(f\"Precision: {precision:.4f}\")\n",
        "    print(f\"Recall: {recall:.4f}\")\n",
        "    print(f\"F1-Score: {f1:.4f}\")\n",
        "    print(\"\\nConfusion Matrix:\")\n",
        "    print(f\"TP: {TP}, FP: {FP}\")\n",
        "    print(f\"FN: {FN}, TN: {TN}\")\n",
        "    print(\"---------------------------\\n\")"
      ]
    }
  ],
  "metadata": {
    "colab": {
      "provenance": []
    },
    "kernelspec": {
      "display_name": "Python 3",
      "name": "python3"
    },
    "language_info": {
      "name": "python"
    }
  },
  "nbformat": 4,
  "nbformat_minor": 0
}
